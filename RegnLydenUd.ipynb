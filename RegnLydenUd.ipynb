{
  "nbformat": 4,
  "nbformat_minor": 0,
  "metadata": {
    "colab": {
      "name": "RegnLydenUd.ipynb",
      "version": "0.3.2",
      "provenance": [],
      "collapsed_sections": [],
      "include_colab_link": true
    },
    "kernelspec": {
      "name": "python3",
      "display_name": "Python 3"
    }
  },
  "cells": [
    {
      "cell_type": "markdown",
      "metadata": {
        "id": "view-in-github",
        "colab_type": "text"
      },
      "source": [
        "<a href=\"https://colab.research.google.com/github/rasthh/regnlydenud/blob/master/RegnLydenUd.ipynb\" target=\"_parent\"><img src=\"https://colab.research.google.com/assets/colab-badge.svg\" alt=\"Open In Colab\"/></a>"
      ]
    },
    {
      "metadata": {
        "id": "YaoyVacMNbL-",
        "colab_type": "text"
      },
      "cell_type": "markdown",
      "source": [
        "![Regn lyden ud skitse](https://www.dtu.dk/-/media/DTUdk/Forskning/ForskningensDoegn/2019/Regn-lyden-ud/Lyden_940.ashx?h=370&la=da&mw=940&w=940&hash=DA751E68D0A1608061295B8380528638F97652C8)\n",
        "\n",
        "#Regn lyden ud (Lyden af Danmark)\n",
        "\n",
        "![DTU logo](https://www.dtu.dk/-/media/DTU_Generelt/Navnetraek/Nyt-design/Corp_Red_RGB-web1.ashx?mh=100&mw=460&hash=1E36B0CED9104CC33A07599A5A4653E0A9A8DCD5 =50x)\n",
        "![Forsknings døgn](https://pbs.twimg.com/profile_images/3184167407/9680b7b1fd0399b0aaaf331490e6d4cd_400x400.jpeg =100x)\n",
        "\n",
        "Du skal nu til at kigge på lyd, og se på lyden på samme måde, som kunstig intelligens kigger på lyd. Ved at kigge på forskellige lyde - og deres spectrogrammer - skal du lære at afkode, hvilken slags lyd som gemmer sig bag spectrogrammerne.\n",
        "\n",
        "#### Moderne notesbog\n",
        "Det du har åbnet her er en moderne notesbog. Forskellen mellem en gammeldags notesbog og denne er, at der hører en computer til denne notesbog. Den står et helt andet sted i et server-rum, og vi kan bruge den til at beregne ting, alt imens du læser notesbogen. Tag et kig oppe i højre hjørne  (hvis ikke det står der endnu, så kommer det når du læser lidt videre) -  der skulle du gerne kunne se et grønt hak, som viser, at du er korrekt koblet op til computeren, samt hvor meget af computerens RAM og disk plads du bruger lige nu.\n",
        "\n",
        "#### Optaget lyd\n",
        "Det du skal bruge notesbogen til er at kigge på de lyde, som du har optaget med Lyden af Danmark-appen. Inden du går i gang med at arbejde med denne notesbog skulle du gerne have optaget en masse lyde, og noteret deres tildelte \"nummer\" i Lyden af Danmark-databsen (f.eks. #1561). Hvis du downloadede filerne undervejs, og har dem gemt på din computer, så er du klar til at gå videre. Hvis ikke du har filerne på din egen computer endnu, så gå ind på [Lyden af Danmark-hjemmesiden](https://lydenafdk.prod.b14cms.dk/), og download dine lyde til den computer du sidder ved - læg dem et sted, som du kan huske hvor er. Sørg også for at give filnavne et simpelt navn, som forklarer, hvad du har optaget i den fil (f.eks. \"fuglesang.mp3\"). Undgå mellemrum og punktummer i dine filnavne.\n",
        "\n",
        "#### Opsætning\n",
        "Før du for alvor går i gang, så skal du installere et par ting på den computer, som du har fået tildelt til din notesbog. Det foregår ganske simpelt ved, at du trykker på play knappen til venstre for boksen herunder (den kommer frem når du rykker musen ind mellem de kantede parenteser). Når koden er kørt, skriver den \"Opsætning færdig\", og play knappen bliver erstattet med et tal (tallet indikerer rækkefølgen af \"bokse\" du har kørt/trykket play på).\n"
      ]
    },
    {
      "metadata": {
        "id": "m35Cwlm1dk8y",
        "colab_type": "code",
        "cellView": "form",
        "colab": {}
      },
      "cell_type": "code",
      "source": [
        "#@title Kør opsætning (OBS! Kør inden du går videre, tryk til venstre i kantede parenteser)\n",
        "!pip install pydub\n",
        "\n",
        "from google.colab import files\n",
        "import matplotlib.pyplot as plt\n",
        "from pydub import AudioSegment\n",
        "from pydub.playback import play\n",
        "from IPython.display import Audio\n",
        "from IPython.display import display\n",
        "from IPython.display import clear_output\n",
        "import numpy as np\n",
        "from matplotlib.colors import ListedColormap\n",
        "from scipy import signal\n",
        "\n",
        "import numpy as np\n",
        "import os\n",
        "\n",
        "from scipy.signal import decimate\n",
        "\n",
        "clear_output()\n",
        "\n",
        "print('Opsætning færdig.')\n"
      ],
      "execution_count": 0,
      "outputs": []
    },
    {
      "metadata": {
        "id": "2vzcNbbOY521",
        "colab_type": "text"
      },
      "cell_type": "markdown",
      "source": [
        "## Upload \n",
        "Du har to muligheder for at bruge dine optagelser i notesbogen, og du skal kun gøre én af dem.\n",
        "Løsning (*Drive*) kan være hurtigere, og kan deles på tværs af flere mennesker nemt.\n",
        "\n",
        "*   (*Direkte*) Upload filerne direkte fra din egen computer. Kør kun *Direkte* herunder.\n",
        "  *   Når du trykker på play-knappen på den *Direkte* boksen, kommer der en knap op, som giver dig mulighed for at uploade dine optagede lyde. Ved at trykke på \"Browser...\", og navigere til alle dine optagede lyde (som er f.eks. MP3-filer), kan du uploade lyden til computeren, som er koblet til notesbogen.\n",
        "*   (*Drive*) Upload filerne til Google Drive, og hent dem derefter gennem Drive. Kør kun *Drive* herunder.\n",
        "  * Inden du kører *Drive* boksen skal du skrive, hvad du har kaldt din mappe med optagelse på Google Drive (f.eks. regnlydenud-optagelser). Når du trykker play på *Drive* boksen, skal du trykke på det link der kommer frem (åbnes i ny side), logge in, kopiere koden, og sætte den ind i feltet der kommer frem på denne side. \n"
      ]
    },
    {
      "metadata": {
        "id": "l134dXiXn838",
        "colab_type": "code",
        "cellView": "form",
        "colab": {}
      },
      "cell_type": "code",
      "source": [
        "#@title (*Direkte*) Upload filer\n",
        "uploaded = files.upload()\n",
        "x = dict()\n",
        "for fn in uploaded.keys():\n",
        "  name_str = str(fn).split('.')[0]\n",
        "  format_str = str(fn).split('.')[1]\n",
        "  sound=AudioSegment.from_file(fn, format_str)\n",
        "  x[name_str] = sound.get_array_of_samples()  \n",
        "  \n",
        "fs = sound.frame_rate\n",
        "clear_output()\n",
        "\n",
        "print('Upload færdig.')"
      ],
      "execution_count": 0,
      "outputs": []
    },
    {
      "metadata": {
        "id": "o2oLAEejr9Gl",
        "colab_type": "code",
        "cellView": "form",
        "colab": {}
      },
      "cell_type": "code",
      "source": [
        "#@title (*Drive*) Hent fra Drive\n",
        "from google.colab import drive\n",
        "drive.mount('/content/gdrive')\n",
        "print('')\n",
        "\n",
        "placering = \"regnlydenud-test\" #@param {type:\"string\"}\n",
        "root_path = 'gdrive/My Drive/' + placering + '/'\n",
        "content = os.listdir(root_path) \n",
        "print('Filer i den angivne mappe:')\n",
        "print('')\n",
        "for e in content:\n",
        "  print(e)\n",
        "\n",
        "print('')\n",
        "print('Henter filerne og gemmer i Colab variabel...')\n",
        "x = dict()\n",
        "for fn in content: #uploaded.keys():\n",
        "  name_str = str(fn).split('.')[0]\n",
        "  #print('Behandler %s ...' % name_str)\n",
        "  format_str = str(fn).split('.')[1]\n",
        "  sound=AudioSegment.from_file(root_path + fn, format_str)\n",
        "  x[name_str] = sound.get_array_of_samples()  \n",
        "  \n",
        "fs = sound.frame_rate\n",
        "\n",
        "#clear_output()\n",
        "\n",
        "print('')\n",
        "print('Filer hentet fra Drive.')\n",
        "\n"
      ],
      "execution_count": 0,
      "outputs": []
    },
    {
      "metadata": {
        "id": "kYHUsIIJSrQv",
        "colab_type": "text"
      },
      "cell_type": "markdown",
      "source": [
        "## Lyt og visualisér\n",
        "Vi kan lytte til de filer, som notesbogen nu kan tilgå. Vi kan også visualisere lyden på forskellige måder. Én måde er at vise amplituden af lydbølgen/bølgeformen som funktion af tid, og en anden er at vise spektrogrammet.\n",
        "\n",
        "Tryk play herunder for lytte til optagelse, samt at se de to visualiseringsmetoder for en af de uploadede lyde (skriv det navn I har givet filen for at vælge hvilken I vil se). Læg mærke til, hvordan de figurer kan sammenlignes, da de har den samme førsteakse (tid). \n",
        "\n",
        "Farven på spektrogrammet kan tolkes som mængden af energi ved en given frekvens. Der hvor der er mindst energi er billedet blåt, og der hvor der er mest energi er billedet gult."
      ]
    },
    {
      "metadata": {
        "id": "y_of-S2fIycj",
        "colab_type": "code",
        "cellView": "form",
        "colab": {}
      },
      "cell_type": "code",
      "source": [
        "#@title Bølgeform og spektrogram\n",
        "fil_til_visning = \"fugle\" #@param {type:\"string\"}\n",
        "k = fil_til_visning\n",
        "v = x[k]\n",
        "title_str = k\n",
        "\n",
        "print('Afspilning af: %s'%k)\n",
        "display(Audio(v,rate=fs))\n",
        "print('')\n",
        "\n",
        "f, axs = plt.subplots(2, 2, gridspec_kw = {'width_ratios':[20,1]})\n",
        "waveform = axs[0,0]\n",
        "spectrogram = axs[1,0]\n",
        "cbar = axs[1,1]\n",
        "axs[0, 1].axis('off')\n",
        "\n",
        "plt.subplots_adjust(left=None, bottom=None, right=None, top=None, wspace=None, hspace=.5)\n",
        "\n",
        "\n",
        "q = 10\n",
        "v_down = decimate(v, q)\n",
        "fs_down = fs/q\n",
        "v_down = decimate(v_down, q)\n",
        "fs_down = fs_down/q\n",
        "t = np.linspace(0,(len(v_down)-1)/fs_down, len(v_down))\n",
        "\n",
        "waveform.plot(t, v_down)\n",
        "waveform.set_title('Bølgeform: '+title_str)\n",
        "waveform.set_xlabel('Tid [s]')\n",
        "waveform.set_ylabel('Amplitude')\n",
        "waveform.set_xlim([0, np.max(t)])\n",
        "\n",
        "f, t, Zxx = signal.stft(v,fs=fs, nperseg=2**12)\n",
        "idx = (100 < f) & (f < 10000)\n",
        "Zxx_dB = 10*np.log10(np.abs(Zxx[idx, :]))\n",
        "im = spectrogram.pcolormesh(t,np.log10(f[idx]), Zxx_dB,\n",
        "                 cmap = plt.get_cmap('viridis'),\n",
        "                           vmin=-20, vmax=np.max(Zxx_dB))\n",
        "locs = np.log10([100, 250, 500, 1000, 2500, 5000, 10000])\n",
        "spectrogram.set_yticks(locs)\n",
        "spectrogram.set_yticklabels([str(int(round(10**e,0))) for e in locs])\n",
        "spectrogram.set_title('Spektrogram: '+ title_str)\n",
        "spectrogram.set_xlabel('Tid [s]')\n",
        "spectrogram.set_ylabel('Frekvens [Hz]')\n",
        "spectrogram.set_xlim([0, np.max(t)])\n",
        "plt.colorbar(im, cax=cbar)\n",
        "cbar.set_ylabel('STFT magnitude [dB]', labelpad=10, rotation=270)\n",
        "\n",
        "\n",
        "plt.show()  "
      ],
      "execution_count": 0,
      "outputs": []
    },
    {
      "metadata": {
        "id": "rSq6lejPUYyc",
        "colab_type": "text"
      },
      "cell_type": "markdown",
      "source": [
        "## Spectrogrammer\n",
        "For at kunne sammenligne alle lydenes spektrogrammer, viser vi dem nu sammen i et stort plot - dog uden akser og tilsvarende.\n",
        "\n",
        "Start med at kigge på spektrogrammerne ved at trykke play på boksen \"beregn og visualisér spektrogrammer\". I kan få figuren til at fylde hele skærmen ved at trykke på boksen, for derefter at trykke på de 3 prikker i højre hjørne af boksen, og derefter \"View output fullscreen\" (når figuren er lavet).\n",
        "\n",
        "De titler I havde givet jeres lydfiler fremgår i rød tekst. Prøv og se om I kan se forskel på de forskelle lyde. Er der nogen der ligner hinanden? \n",
        "\n",
        "Husk, at første aksen (fra venstre mod højre) er tid, og anden aksen (fra ned mod op) er frekvens. Hvis der er gule/grønne områder \"oppe\" i billede så betyder det højfrekvente lyde, mens \"start\" og \"stop\" af gule/grønne områder langs førsteaksen betyder pauser i tid. I har måske set et gammeldags fjernsyn med et billede af støj (sort/hvid-flimmer) - minder nogle af lydene om dét (bare i blå/grøn/gul)?\n",
        "\n",
        "I kan ændre størrelsen på figuren ved at rykke på slideren \"stoerrelse\"."
      ]
    },
    {
      "metadata": {
        "id": "px6jdy7FmKbl",
        "colab_type": "code",
        "cellView": "form",
        "colab": {}
      },
      "cell_type": "code",
      "source": [
        "#@title Beregn og visualiser spektrogrammer\n",
        "\n",
        "stoerrelse = 1 #@param {type:\"slider\", min:0.1, max:2, step:0.01}\n",
        "\n",
        "n = len(x.keys())\n",
        "k2 = int(3)\n",
        "k1 = int(np.ceil(n/k2))\n",
        "figsize = (stoerrelse*k2*5,stoerrelse*k1*3)\n",
        "fig, _axs = plt.subplots(nrows=k1, ncols=k2, figsize=figsize)\n",
        "axs = _axs.flatten()\n",
        "plt.subplots_adjust(left=None, bottom=None, right=None, top=None, \n",
        "                    wspace=.1, hspace=0)\n",
        "\n",
        "for i, (k,v) in enumerate(x.items()):\n",
        "  print('Behandler %i af %i...' % (i+1, n))\n",
        "  title_str = str(k).split('.')[0]\n",
        "  f, t, Zxx = signal.stft(v,fs=fs, \n",
        "                          window='hanning',\n",
        "                          nperseg=2**10, #2**12,\n",
        "                          nfft=2**10)\n",
        "  idx = (100 < f) & (f < 10000)\n",
        "  Zxx_dB = 10*np.log10(np.abs(Zxx[idx, :])+1e-10)\n",
        "  im = axs[i].pcolormesh(t,np.log10(f[idx]), Zxx_dB,\n",
        "                   cmap = plt.get_cmap('viridis'),\n",
        "                             vmin=-20, vmax=np.max(Zxx_dB))\n",
        "  \n",
        "  title_str = str(k).split('.')[0]\n",
        "  axs[i].text(15,3.7,title_str, color='r',\n",
        "             fontsize=stoerrelse*15, \n",
        "              horizontalalignment='center',verticalalignment='center')\n",
        "  axs[i].axis('off')\n",
        "  axs[i].set_xlim([0,30])\n",
        "\n",
        "for j in range(i+1, k1*k2):\n",
        "  axs[j].axis('off')\n",
        "  \n",
        "print('Samler alle spektrogrammerne i en figur... (kan tage lidt tid)')\n",
        "plt.show()  \n",
        "\n",
        "\n"
      ],
      "execution_count": 0,
      "outputs": []
    }
  ]
}